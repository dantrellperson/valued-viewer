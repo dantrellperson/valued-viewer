{
 "cells": [
  {
   "cell_type": "code",
   "execution_count": 4,
   "id": "32143cff-0eb2-463f-abd4-adf564115a26",
   "metadata": {},
   "outputs": [],
   "source": [
    "import pandas as pd\n",
    "from bs4 import BeautifulSoup\n",
    "import cloudscraper \n",
    "import requests "
   ]
  },
  {
   "cell_type": "code",
   "execution_count": 5,
   "id": "d8685a39-62c1-4e3d-8171-dd4a3d7db4e4",
   "metadata": {},
   "outputs": [],
   "source": [
    "# url to be scraped\n",
    "\n",
    "url = 'https://twitchtracker.com/channels/most-followers'\n",
    "# https://twitchtracker.com/channels/most-followers?page=2"
   ]
  },
  {
   "cell_type": "code",
   "execution_count": 4,
   "id": "5bc1c39d-1534-4b64-ab84-813359cb4882",
   "metadata": {},
   "outputs": [],
   "source": [
    "# retrieve the page using the requests command\n",
    "# response = requests.get(url)"
   ]
  },
  {
   "cell_type": "code",
   "execution_count": 6,
   "id": "4f5c8bc2-8479-4555-b87f-31f2afec7b75",
   "metadata": {},
   "outputs": [],
   "source": [
    "# retrieve the page using the cloudscraper\n",
    "scraper = cloudscraper.create_scraper(delay=10, browser=\"chrome\") \n",
    "content = scraper.get(url).text \n",
    " \n",
    "# print(content)"
   ]
  },
  {
   "cell_type": "code",
   "execution_count": 7,
   "id": "895075e7-4f3a-4ff4-a756-1cf239a681d2",
   "metadata": {},
   "outputs": [],
   "source": [
    "soup = BeautifulSoup(content,'html.parser')"
   ]
  },
  {
   "cell_type": "code",
   "execution_count": 15,
   "id": "1c6b7b49-c046-4487-8cad-d4025b7c7601",
   "metadata": {},
   "outputs": [],
   "source": [
    "# print(soup)"
   ]
  },
  {
   "cell_type": "code",
   "execution_count": 37,
   "id": "37ef949d-49bc-4682-a293-36687043a6e5",
   "metadata": {},
   "outputs": [],
   "source": [
    "# create list of all streamers on page \n",
    "streamers_test = soup.find_all('a', target=\"_blank\")\n",
    "\n",
    "# create list of the viewer count for all streamers listed on page \n",
    "viewerCount_test = soup.find_all('td',class_=\"color-viewers\" )\n",
    "\n",
    "# create list of the amount of time streamed for all streamers listed on page \n",
    "timeStreamed_test = soup.find_all('td',class_=\"color-streamed\" )\n",
    "\n",
    "# create list of the all time viewer count for all streamers listed on page \n",
    "allTimeViewers_test = soup.find_all('td',class_=\"color-viewersMax\" )\n",
    "\n",
    "# create list of the hours watched count for all streamers listed on page \n",
    "hoursWatched_test = soup.find_all('td',class_=\"color-watched\" )"
   ]
  },
  {
   "cell_type": "code",
   "execution_count": 39,
   "id": "6c548f6a-f687-4987-aa99-72f06f0258ba",
   "metadata": {},
   "outputs": [],
   "source": [
    "# for i in hoursWatched_test:\n",
    "#     print(i.text)"
   ]
  },
  {
   "cell_type": "code",
   "execution_count": 30,
   "id": "c43ded30-c75f-408c-b429-810d12b56436",
   "metadata": {},
   "outputs": [],
   "source": [
    "# for i in streamerList_test:\n",
    "#     print(i.text)"
   ]
  }
 ],
 "metadata": {
  "kernelspec": {
   "display_name": "Python 3 (ipykernel)",
   "language": "python",
   "name": "python3"
  },
  "language_info": {
   "codemirror_mode": {
    "name": "ipython",
    "version": 3
   },
   "file_extension": ".py",
   "mimetype": "text/x-python",
   "name": "python",
   "nbconvert_exporter": "python",
   "pygments_lexer": "ipython3",
   "version": "3.9.9"
  }
 },
 "nbformat": 4,
 "nbformat_minor": 5
}
